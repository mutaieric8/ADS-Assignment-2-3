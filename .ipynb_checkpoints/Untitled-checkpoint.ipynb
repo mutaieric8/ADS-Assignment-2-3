{
 "cells": [
  {
   "cell_type": "markdown",
   "id": "6be48500",
   "metadata": {},
   "source": [
    "1. Show a breakdown of distance from home by job role and attrition."
   ]
  },
  {
   "cell_type": "markdown",
   "id": "72bb40ac",
   "metadata": {},
   "source": [
    "2. Compare average monthly income by education and attrition"
   ]
  },
  {
   "cell_type": "markdown",
   "id": "97b27fbf",
   "metadata": {},
   "source": [
    "Assignment 3.\n",
    "Based on your analysis in Assignment 2, express your results in the form of the most appropriate \n",
    "visualization using any visualization library of your choice."
   ]
  },
  {
   "cell_type": "code",
   "execution_count": null,
   "id": "b258056b",
   "metadata": {},
   "outputs": [],
   "source": []
  }
 ],
 "metadata": {
  "kernelspec": {
   "display_name": "Python 3 (ipykernel)",
   "language": "python",
   "name": "python3"
  },
  "language_info": {
   "codemirror_mode": {
    "name": "ipython",
    "version": 3
   },
   "file_extension": ".py",
   "mimetype": "text/x-python",
   "name": "python",
   "nbconvert_exporter": "python",
   "pygments_lexer": "ipython3",
   "version": "3.9.13"
  }
 },
 "nbformat": 4,
 "nbformat_minor": 5
}
